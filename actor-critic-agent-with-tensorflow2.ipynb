{
 "cells": [
  {
   "cell_type": "markdown",
   "metadata": {},
   "source": [
    "# Advantage Actor-Critic with TensorFlow 2.1"
   ]
  },
  {
   "cell_type": "markdown",
   "source": [
    "## Setup"
   ],
   "metadata": {
    "collapsed": false,
    "pycharm": {
     "name": "#%% md\n"
    }
   }
  },
  {
   "cell_type": "code",
   "execution_count": 13,
   "metadata": {
    "pycharm": {
     "is_executing": false
    }
   },
   "outputs": [
    {
     "name": "stdout",
     "text": [
      "TensorFlow Ver:  2.1.0\n"
     ],
     "output_type": "stream"
    }
   ],
   "source": [
    "import gym\n",
    "import logging\n",
    "import numpy as np\n",
    "import tensorflow as tf\n",
    "import matplotlib.pyplot as plt\n",
    "import tensorflow.keras.layers as kl\n",
    "import tensorflow.keras.losses as kls\n",
    "import tensorflow.keras.optimizers as ko\n",
    "\n",
    "%matplotlib inline\n",
    "\n",
    "print(\"TensorFlow Ver: \", tf.__version__)"
   ]
  },
  {
   "cell_type": "code",
   "execution_count": 14,
   "metadata": {
    "pycharm": {
     "is_executing": false
    }
   },
   "outputs": [
    {
     "name": "stdout",
     "text": [
      "Eager Execution: True\n",
      "1 + 2 + 3 + 4 + 5 = tf.Tensor(15, shape=(), dtype=int32)\n"
     ],
     "output_type": "stream"
    }
   ],
   "source": [
    "# Eager by default!\n",
    "print(\"Eager Execution:\", tf.executing_eagerly())\n",
    "print(\"1 + 2 + 3 + 4 + 5 =\", tf.reduce_sum([1, 2, 3, 4, 5]))"
   ]
  },
  {
   "cell_type": "markdown",
   "metadata": {},
   "source": [
    "## Policy & Value Model Class"
   ]
  },
  {
   "cell_type": "code",
   "execution_count": 15,
   "metadata": {
    "pycharm": {
     "is_executing": false
    }
   },
   "outputs": [],
   "source": [
    "class ProbabilityDistribution(tf.keras.Model):\n",
    "  def call(self, logits, **kwargs):\n",
    "    # Sample a random categorical action from the given logits.\n",
    "    return tf.squeeze(tf.random.categorical(logits, 1), axis=-1)\n",
    "\n",
    "\n",
    "class Model(tf.keras.Model):\n",
    "  def __init__(self, num_actions):\n",
    "    super().__init__('mlp_policy')\n",
    "    # Note: no tf.get_variable(), just simple Keras API!\n",
    "    self.hidden1 = kl.Dense(128, activation='relu')\n",
    "    self.hidden2 = kl.Dense(128, activation='relu')\n",
    "    self.value = kl.Dense(1, name='value')\n",
    "    # Logits are unnormalized log probabilities.\n",
    "    self.logits = kl.Dense(num_actions, name='policy_logits')\n",
    "    self.dist = ProbabilityDistribution()\n",
    "\n",
    "  def call(self, inputs, **kwargs):\n",
    "    # Inputs is a numpy array, convert to a tensor.\n",
    "    x = tf.convert_to_tensor(inputs)\n",
    "    # Separate hidden layers from the same input tensor.\n",
    "    hidden_logs = self.hidden1(x)\n",
    "    hidden_vals = self.hidden2(x)\n",
    "    return self.logits(hidden_logs), self.value(hidden_vals)\n",
    "\n",
    "  def action_value(self, obs):\n",
    "    # Executes `call()` under the hood.\n",
    "    logits, value = self.predict_on_batch(obs)\n",
    "    action = self.dist.predict_on_batch(logits)\n",
    "    # Another way to sample actions:\n",
    "    #   action = tf.random.categorical(logits, 1)\n",
    "    # Will become clearer later why we don't use it.\n",
    "    return np.squeeze(action, axis=-1), np.squeeze(value, axis=-1)"
   ]
  },
  {
   "cell_type": "code",
   "execution_count": 16,
   "outputs": [
    {
     "data": {
      "text/plain": "(array(1), array([1.0734191e-05], dtype=float32))"
     },
     "metadata": {},
     "output_type": "execute_result",
     "execution_count": 16
    }
   ],
   "source": [
    "# Verify everything works by sampling a single action.\n",
    "env = gym.make('CartPole-v0')\n",
    "model = Model(num_actions=env.action_space.n)\n",
    "model.action_value(env.reset()[None, :])"
   ],
   "metadata": {
    "collapsed": false,
    "pycharm": {
     "name": "#%%\n",
     "is_executing": false
    }
   }
  },
  {
   "cell_type": "markdown",
   "metadata": {},
   "source": [
    "## Advantage Actor-Critic Agent Class"
   ]
  },
  {
   "cell_type": "code",
   "execution_count": 17,
   "metadata": {
    "pycharm": {
     "is_executing": false
    }
   },
   "outputs": [],
   "source": [
    "class A2CAgent:\n",
    "  def __init__(self, model, lr=7e-3, gamma=0.99, value_c=0.5, entropy_c=1e-4):\n",
    "    # `gamma` is the discount factor; coefficients are used for the loss terms.\n",
    "    self.gamma = gamma\n",
    "    self.value_c = value_c\n",
    "    self.entropy_c = entropy_c\n",
    "\n",
    "    self.model = model\n",
    "    self.model.compile(\n",
    "      optimizer=ko.RMSprop(lr=lr),\n",
    "      # Define separate losses for policy logits and value estimate.\n",
    "      loss=[self._logits_loss, self._value_loss])\n",
    "\n",
    "  def train(self, env, batch_sz=64, updates=250):\n",
    "    # Storage helpers for a single batch of data.\n",
    "    actions = np.empty((batch_sz,), dtype=np.int32)\n",
    "    rewards, dones, values = np.empty((3, batch_sz))\n",
    "    observations = np.empty((batch_sz,) + env.observation_space.shape)\n",
    "    # Training loop: collect samples, send to optimizer, repeat updates times.\n",
    "    ep_rewards = [0.0]\n",
    "    next_obs = env.reset()\n",
    "    for update in range(updates):\n",
    "      for step in range(batch_sz):\n",
    "        observations[step] = next_obs.copy()\n",
    "        actions[step], values[step] = self.model.action_value(next_obs[None, :])\n",
    "        next_obs, rewards[step], dones[step], _ = env.step(actions[step])\n",
    "\n",
    "        ep_rewards[-1] += rewards[step]\n",
    "        if dones[step]:\n",
    "          ep_rewards.append(0.0)\n",
    "          next_obs = env.reset()\n",
    "          logging.info(\"Episode: %03d, Reward: %03d\" % (len(ep_rewards) - 1, ep_rewards[-2]))\n",
    "\n",
    "      _, next_value = self.model.action_value(next_obs[None, :])\n",
    "      returns, advs = self._returns_advantages(rewards, dones, values, next_value)\n",
    "      # A trick to input actions and advantages through same API.\n",
    "      acts_and_advs = np.concatenate([actions[:, None], advs[:, None]], axis=-1)\n",
    "      # Performs a full training step on the collected batch.\n",
    "      # Note: no need to mess around with gradients, Keras API handles it.\n",
    "      losses = self.model.train_on_batch(observations, [acts_and_advs, returns])\n",
    "      logging.debug(\"[%d/%d] Losses: %s\" % (update + 1, updates, losses))\n",
    "\n",
    "    return ep_rewards\n",
    "\n",
    "  def test(self, env, render=False):\n",
    "    obs, done, ep_reward = env.reset(), False, 0\n",
    "    while not done:\n",
    "      action, _ = self.model.action_value(obs[None, :])\n",
    "      obs, reward, done, _ = env.step(action)\n",
    "      ep_reward += reward\n",
    "      if render:\n",
    "        env.render()\n",
    "    return ep_reward\n",
    "\n",
    "  def _returns_advantages(self, rewards, dones, values, next_value):\n",
    "    # `next_value` is the bootstrap value estimate of the future state (critic).\n",
    "    returns = np.append(np.zeros_like(rewards), next_value, axis=-1)\n",
    "    # Returns are calculated as discounted sum of future rewards.\n",
    "    for t in reversed(range(rewards.shape[0])):\n",
    "      returns[t] = rewards[t] + self.gamma * returns[t + 1] * (1 - dones[t])\n",
    "    returns = returns[:-1]\n",
    "    # Advantages are equal to returns - baseline (value estimates in our case).\n",
    "    advantages = returns - values\n",
    "    return returns, advantages\n",
    "\n",
    "  def _value_loss(self, returns, value):\n",
    "    # Value loss is typically MSE between value estimates and returns.\n",
    "    return self.value_c * kls.mean_squared_error(returns, value)\n",
    "\n",
    "  def _logits_loss(self, actions_and_advantages, logits):\n",
    "    # A trick to input actions and advantages through the same API.\n",
    "    actions, advantages = tf.split(actions_and_advantages, 2, axis=-1)\n",
    "    # Sparse categorical CE loss obj that supports sample_weight arg on `call()`.\n",
    "    # `from_logits` argument ensures transformation into normalized probabilities.\n",
    "    weighted_sparse_ce = kls.SparseCategoricalCrossentropy(from_logits=True)\n",
    "    # Policy loss is defined by policy gradients, weighted by advantages.\n",
    "    # Note: we only calculate the loss on the actions we've actually taken.\n",
    "    actions = tf.cast(actions, tf.int32)\n",
    "    policy_loss = weighted_sparse_ce(actions, logits, sample_weight=advantages)\n",
    "    # Entropy loss can be calculated as cross-entropy over itself.\n",
    "    probs = tf.nn.softmax(logits)\n",
    "    entropy_loss = kls.categorical_crossentropy(probs, probs)\n",
    "    # We want to minimize policy and maximize entropy losses.\n",
    "    # Here signs are flipped because the optimizer minimizes.\n",
    "    return policy_loss - self.entropy_c * entropy_loss"
   ]
  },
  {
   "cell_type": "code",
   "execution_count": 18,
   "outputs": [
    {
     "name": "stdout",
     "text": [
      "Total Episode Reward: 18 out of 200\n"
     ],
     "output_type": "stream"
    }
   ],
   "source": [
    "# Verify everything works with random weights.\n",
    "agent = A2CAgent(model)\n",
    "rewards_sum = agent.test(env)\n",
    "print(\"Total Episode Reward: %d out of 200\" % agent.test(env))"
   ],
   "metadata": {
    "collapsed": false,
    "pycharm": {
     "name": "#%%\n",
     "is_executing": false
    }
   }
  },
  {
   "cell_type": "markdown",
   "metadata": {},
   "source": [
    "## Training A2C Agent & Results"
   ]
  },
  {
   "cell_type": "code",
   "execution_count": 19,
   "metadata": {
    "pycharm": {
     "is_executing": false
    }
   },
   "outputs": [
    {
     "name": "stderr",
     "text": [
      "INFO:root:Episode: 001, Reward: 013\n",
      "INFO:root:Episode: 002, Reward: 024\n",
      "INFO:root:Episode: 003, Reward: 015\n",
      "INFO:root:Episode: 004, Reward: 012\n",
      "INFO:root:Episode: 005, Reward: 012\n",
      "INFO:root:Episode: 006, Reward: 023\n",
      "INFO:root:Episode: 007, Reward: 023\n",
      "INFO:root:Episode: 008, Reward: 021\n",
      "INFO:root:Episode: 009, Reward: 021\n",
      "INFO:root:Episode: 010, Reward: 022\n",
      "INFO:root:Episode: 011, Reward: 023\n",
      "INFO:root:Episode: 012, Reward: 036\n",
      "INFO:root:Episode: 013, Reward: 024\n",
      "INFO:root:Episode: 014, Reward: 023\n",
      "INFO:root:Episode: 015, Reward: 009\n",
      "INFO:root:Episode: 016, Reward: 031\n",
      "INFO:root:Episode: 017, Reward: 020\n",
      "INFO:root:Episode: 018, Reward: 043\n",
      "INFO:root:Episode: 019, Reward: 028\n",
      "INFO:root:Episode: 020, Reward: 089\n",
      "INFO:root:Episode: 021, Reward: 021\n",
      "INFO:root:Episode: 022, Reward: 016\n",
      "INFO:root:Episode: 023, Reward: 047\n",
      "INFO:root:Episode: 024, Reward: 033\n",
      "INFO:root:Episode: 025, Reward: 026\n",
      "INFO:root:Episode: 026, Reward: 038\n",
      "INFO:root:Episode: 027, Reward: 052\n",
      "INFO:root:Episode: 028, Reward: 026\n",
      "INFO:root:Episode: 029, Reward: 021\n",
      "INFO:root:Episode: 030, Reward: 030\n",
      "INFO:root:Episode: 031, Reward: 035\n",
      "INFO:root:Episode: 032, Reward: 083\n",
      "INFO:root:Episode: 033, Reward: 043\n",
      "INFO:root:Episode: 034, Reward: 028\n",
      "INFO:root:Episode: 035, Reward: 031\n",
      "INFO:root:Episode: 036, Reward: 070\n",
      "INFO:root:Episode: 037, Reward: 080\n",
      "INFO:root:Episode: 038, Reward: 077\n",
      "INFO:root:Episode: 039, Reward: 027\n",
      "INFO:root:Episode: 040, Reward: 155\n",
      "INFO:root:Episode: 041, Reward: 043\n",
      "INFO:root:Episode: 042, Reward: 042\n",
      "INFO:root:Episode: 043, Reward: 048\n",
      "INFO:root:Episode: 044, Reward: 026\n",
      "INFO:root:Episode: 045, Reward: 036\n",
      "INFO:root:Episode: 046, Reward: 035\n",
      "INFO:root:Episode: 047, Reward: 041\n",
      "INFO:root:Episode: 048, Reward: 089\n",
      "INFO:root:Episode: 049, Reward: 137\n",
      "INFO:root:Episode: 050, Reward: 186\n",
      "INFO:root:Episode: 051, Reward: 115\n",
      "INFO:root:Episode: 052, Reward: 096\n",
      "INFO:root:Episode: 053, Reward: 089\n",
      "INFO:root:Episode: 054, Reward: 067\n",
      "INFO:root:Episode: 055, Reward: 092\n",
      "INFO:root:Episode: 056, Reward: 104\n",
      "INFO:root:Episode: 057, Reward: 177\n",
      "INFO:root:Episode: 058, Reward: 183\n",
      "INFO:root:Episode: 059, Reward: 131\n",
      "INFO:root:Episode: 060, Reward: 088\n",
      "INFO:root:Episode: 061, Reward: 078\n",
      "INFO:root:Episode: 062, Reward: 089\n",
      "INFO:root:Episode: 063, Reward: 096\n",
      "INFO:root:Episode: 064, Reward: 112\n",
      "INFO:root:Episode: 065, Reward: 073\n",
      "INFO:root:Episode: 066, Reward: 114\n",
      "INFO:root:Episode: 067, Reward: 092\n",
      "INFO:root:Episode: 068, Reward: 117\n",
      "INFO:root:Episode: 069, Reward: 150\n",
      "INFO:root:Episode: 070, Reward: 200\n",
      "INFO:root:Episode: 071, Reward: 200\n",
      "INFO:root:Episode: 072, Reward: 015\n",
      "INFO:root:Episode: 073, Reward: 112\n",
      "INFO:root:Episode: 074, Reward: 199\n",
      "INFO:root:Episode: 075, Reward: 200\n",
      "INFO:root:Episode: 076, Reward: 181\n",
      "INFO:root:Episode: 077, Reward: 127\n",
      "INFO:root:Episode: 078, Reward: 083\n",
      "INFO:root:Episode: 079, Reward: 148\n",
      "INFO:root:Episode: 080, Reward: 200\n",
      "INFO:root:Episode: 081, Reward: 200\n",
      "INFO:root:Episode: 082, Reward: 145\n",
      "INFO:root:Episode: 083, Reward: 184\n",
      "INFO:root:Episode: 084, Reward: 200\n",
      "INFO:root:Episode: 085, Reward: 200\n",
      "INFO:root:Episode: 086, Reward: 190\n",
      "INFO:root:Episode: 087, Reward: 133\n",
      "INFO:root:Episode: 088, Reward: 200\n",
      "INFO:root:Episode: 089, Reward: 200\n",
      "INFO:root:Episode: 090, Reward: 200\n",
      "INFO:root:Episode: 091, Reward: 110\n",
      "INFO:root:Episode: 092, Reward: 154\n",
      "INFO:root:Episode: 093, Reward: 200\n",
      "INFO:root:Episode: 094, Reward: 200\n",
      "INFO:root:Episode: 095, Reward: 200\n",
      "INFO:root:Episode: 096, Reward: 200\n",
      "INFO:root:Episode: 097, Reward: 200\n",
      "INFO:root:Episode: 098, Reward: 136\n",
      "INFO:root:Episode: 099, Reward: 200\n",
      "INFO:root:Episode: 100, Reward: 200\n",
      "INFO:root:Episode: 101, Reward: 200\n",
      "INFO:root:Episode: 102, Reward: 200\n",
      "INFO:root:Episode: 103, Reward: 200\n",
      "INFO:root:Episode: 104, Reward: 181\n",
      "INFO:root:Episode: 105, Reward: 200\n",
      "INFO:root:Episode: 106, Reward: 153\n",
      "INFO:root:Episode: 107, Reward: 200\n",
      "INFO:root:Episode: 108, Reward: 200\n",
      "INFO:root:Episode: 109, Reward: 134\n",
      "INFO:root:Episode: 110, Reward: 169\n",
      "INFO:root:Episode: 111, Reward: 083\n",
      "INFO:root:Episode: 112, Reward: 200\n",
      "INFO:root:Episode: 113, Reward: 200\n",
      "INFO:root:Episode: 114, Reward: 200\n",
      "INFO:root:Episode: 115, Reward: 200\n",
      "INFO:root:Episode: 116, Reward: 200\n",
      "INFO:root:Episode: 117, Reward: 200\n",
      "INFO:root:Episode: 118, Reward: 072\n",
      "INFO:root:Episode: 119, Reward: 183\n",
      "INFO:root:Episode: 120, Reward: 191\n",
      "INFO:root:Episode: 121, Reward: 200\n",
      "INFO:root:Episode: 122, Reward: 184\n",
      "INFO:root:Episode: 123, Reward: 123\n",
      "INFO:root:Episode: 124, Reward: 102\n",
      "INFO:root:Episode: 125, Reward: 162\n",
      "INFO:root:Episode: 126, Reward: 176\n",
      "INFO:root:Episode: 127, Reward: 162\n",
      "INFO:root:Episode: 128, Reward: 200\n",
      "INFO:root:Episode: 129, Reward: 200\n",
      "INFO:root:Episode: 130, Reward: 200\n",
      "INFO:root:Episode: 131, Reward: 200\n",
      "INFO:root:Episode: 132, Reward: 200\n",
      "INFO:root:Episode: 133, Reward: 200\n",
      "INFO:root:Episode: 134, Reward: 200\n",
      "INFO:root:Episode: 135, Reward: 200\n",
      "INFO:root:Episode: 136, Reward: 200\n"
     ],
     "output_type": "stream"
    },
    {
     "name": "stdout",
     "text": [
      "Finished training! Testing...\n",
      "Total Episode Reward: 200 out of 200\n"
     ],
     "output_type": "stream"
    },
    {
     "data": {
      "text/plain": "<Figure size 576x396 with 1 Axes>",
      "image/png": "[encoded data removed]"
     },
     "metadata": {},
     "output_type": "display_data"
    }
   ],
   "source": [
    "# set to logging.WARNING to disable logs or logging.DEBUG to see losses as well\n",
    "logging.getLogger().setLevel(logging.INFO)\n",
    "\n",
    "model = Model(num_actions=env.action_space.n)\n",
    "agent = A2CAgent(model)\n",
    "\n",
    "rewards_history = agent.train(env)\n",
    "print(\"Finished training! Testing...\")\n",
    "print(\"Total Episode Reward: %d out of 200\" % agent.test(env))\n",
    "\n",
    "plt.style.use('seaborn')\n",
    "plt.plot(np.arange(0, len(rewards_history), 5), rewards_history[::5])\n",
    "plt.xlabel('Episode')\n",
    "plt.ylabel('Total Reward')\n",
    "plt.show()"
   ]
  },
  {
   "cell_type": "markdown",
   "metadata": {},
   "source": [
    "## Static Computational Graph"
   ]
  },
  {
   "cell_type": "code",
   "execution_count": 20,
   "metadata": {
    "pycharm": {
     "is_executing": false
    }
   },
   "outputs": [
    {
     "name": "stdout",
     "text": [
      "Eager Execution: False\n",
      "Finished training! Testing...\n",
      "Total Episode Reward: 200 out of 200\n"
     ],
     "output_type": "stream"
    },
    {
     "name": "stderr",
     "text": [
      "INFO:root:Episode: 001, Reward: 035\n",
      "INFO:root:Episode: 002, Reward: 020\n",
      "INFO:root:Episode: 003, Reward: 044\n",
      "INFO:root:Episode: 004, Reward: 013\n",
      "INFO:root:Episode: 005, Reward: 019\n",
      "INFO:root:Episode: 006, Reward: 166\n",
      "INFO:root:Episode: 007, Reward: 078\n",
      "INFO:root:Episode: 008, Reward: 039\n",
      "INFO:root:Episode: 009, Reward: 052\n",
      "INFO:root:Episode: 010, Reward: 029\n",
      "INFO:root:Episode: 011, Reward: 025\n",
      "INFO:root:Episode: 012, Reward: 013\n",
      "INFO:root:Episode: 013, Reward: 036\n",
      "INFO:root:Episode: 014, Reward: 031\n",
      "INFO:root:Episode: 015, Reward: 012\n",
      "INFO:root:Episode: 016, Reward: 019\n",
      "INFO:root:Episode: 017, Reward: 061\n",
      "INFO:root:Episode: 018, Reward: 069\n",
      "INFO:root:Episode: 019, Reward: 138\n",
      "INFO:root:Episode: 020, Reward: 035\n",
      "INFO:root:Episode: 021, Reward: 050\n",
      "INFO:root:Episode: 022, Reward: 140\n",
      "INFO:root:Episode: 023, Reward: 077\n",
      "INFO:root:Episode: 024, Reward: 073\n",
      "INFO:root:Episode: 025, Reward: 119\n",
      "INFO:root:Episode: 026, Reward: 113\n",
      "INFO:root:Episode: 027, Reward: 062\n",
      "INFO:root:Episode: 028, Reward: 052\n",
      "INFO:root:Episode: 029, Reward: 047\n",
      "INFO:root:Episode: 030, Reward: 044\n",
      "INFO:root:Episode: 031, Reward: 074\n",
      "INFO:root:Episode: 032, Reward: 105\n",
      "INFO:root:Episode: 033, Reward: 108\n",
      "INFO:root:Episode: 034, Reward: 096\n",
      "INFO:root:Episode: 035, Reward: 114\n",
      "INFO:root:Episode: 036, Reward: 053\n",
      "INFO:root:Episode: 037, Reward: 141\n",
      "INFO:root:Episode: 038, Reward: 067\n",
      "INFO:root:Episode: 039, Reward: 068\n",
      "INFO:root:Episode: 040, Reward: 106\n",
      "INFO:root:Episode: 041, Reward: 200\n",
      "INFO:root:Episode: 042, Reward: 180\n",
      "INFO:root:Episode: 043, Reward: 200\n",
      "INFO:root:Episode: 044, Reward: 200\n",
      "INFO:root:Episode: 045, Reward: 200\n",
      "INFO:root:Episode: 046, Reward: 154\n",
      "INFO:root:Episode: 047, Reward: 115\n",
      "INFO:root:Episode: 048, Reward: 177\n",
      "INFO:root:Episode: 049, Reward: 200\n",
      "INFO:root:Episode: 050, Reward: 147\n",
      "INFO:root:Episode: 051, Reward: 165\n",
      "INFO:root:Episode: 052, Reward: 200\n",
      "INFO:root:Episode: 053, Reward: 200\n",
      "INFO:root:Episode: 054, Reward: 130\n",
      "INFO:root:Episode: 055, Reward: 165\n",
      "INFO:root:Episode: 056, Reward: 099\n",
      "INFO:root:Episode: 057, Reward: 114\n",
      "INFO:root:Episode: 058, Reward: 038\n",
      "INFO:root:Episode: 059, Reward: 036\n",
      "INFO:root:Episode: 060, Reward: 134\n",
      "INFO:root:Episode: 061, Reward: 138\n",
      "INFO:root:Episode: 062, Reward: 200\n",
      "INFO:root:Episode: 063, Reward: 152\n",
      "INFO:root:Episode: 064, Reward: 086\n",
      "INFO:root:Episode: 065, Reward: 103\n",
      "INFO:root:Episode: 066, Reward: 153\n",
      "INFO:root:Episode: 067, Reward: 200\n",
      "INFO:root:Episode: 068, Reward: 162\n",
      "INFO:root:Episode: 069, Reward: 176\n",
      "INFO:root:Episode: 070, Reward: 125\n",
      "INFO:root:Episode: 071, Reward: 114\n",
      "INFO:root:Episode: 072, Reward: 103\n",
      "INFO:root:Episode: 073, Reward: 127\n",
      "INFO:root:Episode: 074, Reward: 104\n",
      "INFO:root:Episode: 075, Reward: 090\n",
      "INFO:root:Episode: 076, Reward: 056\n",
      "INFO:root:Episode: 077, Reward: 044\n",
      "INFO:root:Episode: 078, Reward: 085\n",
      "INFO:root:Episode: 079, Reward: 127\n",
      "INFO:root:Episode: 080, Reward: 085\n",
      "INFO:root:Episode: 081, Reward: 111\n",
      "INFO:root:Episode: 082, Reward: 099\n",
      "INFO:root:Episode: 083, Reward: 200\n",
      "INFO:root:Episode: 084, Reward: 157\n",
      "INFO:root:Episode: 085, Reward: 135\n",
      "INFO:root:Episode: 086, Reward: 106\n",
      "INFO:root:Episode: 087, Reward: 200\n",
      "INFO:root:Episode: 088, Reward: 168\n",
      "INFO:root:Episode: 089, Reward: 086\n",
      "INFO:root:Episode: 090, Reward: 072\n",
      "INFO:root:Episode: 091, Reward: 161\n",
      "INFO:root:Episode: 092, Reward: 156\n",
      "INFO:root:Episode: 093, Reward: 158\n",
      "INFO:root:Episode: 094, Reward: 200\n",
      "INFO:root:Episode: 095, Reward: 200\n",
      "INFO:root:Episode: 096, Reward: 200\n",
      "INFO:root:Episode: 097, Reward: 200\n",
      "INFO:root:Episode: 098, Reward: 200\n",
      "INFO:root:Episode: 099, Reward: 200\n",
      "INFO:root:Episode: 100, Reward: 200\n",
      "INFO:root:Episode: 101, Reward: 200\n",
      "INFO:root:Episode: 102, Reward: 200\n",
      "INFO:root:Episode: 103, Reward: 200\n",
      "INFO:root:Episode: 104, Reward: 200\n",
      "INFO:root:Episode: 105, Reward: 200\n",
      "INFO:root:Episode: 106, Reward: 200\n",
      "INFO:root:Episode: 107, Reward: 200\n",
      "INFO:root:Episode: 108, Reward: 150\n",
      "INFO:root:Episode: 109, Reward: 122\n",
      "INFO:root:Episode: 110, Reward: 146\n",
      "INFO:root:Episode: 111, Reward: 065\n",
      "INFO:root:Episode: 112, Reward: 065\n",
      "INFO:root:Episode: 113, Reward: 131\n",
      "INFO:root:Episode: 114, Reward: 071\n",
      "INFO:root:Episode: 115, Reward: 057\n",
      "INFO:root:Episode: 116, Reward: 195\n",
      "INFO:root:Episode: 117, Reward: 130\n",
      "INFO:root:Episode: 118, Reward: 149\n",
      "INFO:root:Episode: 119, Reward: 186\n",
      "INFO:root:Episode: 120, Reward: 177\n",
      "INFO:root:Episode: 121, Reward: 151\n",
      "INFO:root:Episode: 122, Reward: 110\n",
      "INFO:root:Episode: 123, Reward: 172\n",
      "INFO:root:Episode: 124, Reward: 144\n",
      "INFO:root:Episode: 125, Reward: 200\n",
      "INFO:root:Episode: 126, Reward: 200\n",
      "INFO:root:Episode: 127, Reward: 147\n",
      "INFO:root:Episode: 128, Reward: 156\n",
      "INFO:root:Episode: 129, Reward: 186\n"
     ],
     "output_type": "stream"
    }
   ],
   "source": [
    "with tf.Graph().as_default():\n",
    "    print(\"Eager Execution:\", tf.executing_eagerly()) # False\n",
    "\n",
    "    model = Model(num_actions=env.action_space.n)\n",
    "    agent = A2CAgent(model)\n",
    "\n",
    "    rewards_history = agent.train(env)\n",
    "    print(\"Finished training! Testing...\")\n",
    "    print(\"Total Episode Reward: %d out of 200\" % agent.test(env))"
   ]
  },
  {
   "cell_type": "markdown",
   "metadata": {},
   "source": [
    "## Benchmarks\n",
    "\n",
    "Note: wall time doesn't show the whole picture, it's better to compare CPU time."
   ]
  },
  {
   "cell_type": "code",
   "execution_count": 21,
   "metadata": {
    "pycharm": {
     "is_executing": false
    }
   },
   "outputs": [],
   "source": [
    "# Generate 100k observations to run benchmarks on.\n",
    "env = gym.make('CartPole-v0')\n",
    "obs = np.repeat(env.reset()[None, :], 100000, axis=0)"
   ]
  },
  {
   "cell_type": "markdown",
   "metadata": {},
   "source": [
    "### Eager Benchmark"
   ]
  },
  {
   "cell_type": "code",
   "execution_count": 22,
   "metadata": {
    "pycharm": {
     "is_executing": false
    }
   },
   "outputs": [
    {
     "name": "stdout",
     "text": [
      "Eager Execution:   True\n",
      "Eager Keras Model: True\n",
      "CPU times: user 24 ms, sys: 12.7 ms, total: 36.7 ms\n",
      "Wall time: 35.1 ms\n"
     ],
     "output_type": "stream"
    }
   ],
   "source": [
    "%%time\n",
    "\n",
    "model = Model(env.action_space.n)\n",
    "model.run_eagerly = True\n",
    "\n",
    "print(\"Eager Execution:  \", tf.executing_eagerly())\n",
    "print(\"Eager Keras Model:\", model.run_eagerly)\n",
    "\n",
    "_ = model.predict_on_batch(obs)"
   ]
  },
  {
   "cell_type": "markdown",
   "metadata": {},
   "source": [
    "### Static Benchmark"
   ]
  },
  {
   "cell_type": "code",
   "execution_count": 23,
   "metadata": {
    "pycharm": {
     "is_executing": false
    }
   },
   "outputs": [
    {
     "name": "stdout",
     "text": [
      "Eager Execution:   False\n",
      "Eager Keras Model: False\n",
      "CPU times: user 81.6 ms, sys: 21 ms, total: 103 ms\n",
      "Wall time: 99.6 ms\n"
     ],
     "output_type": "stream"
    }
   ],
   "source": [
    "%%time\n",
    "\n",
    "with tf.Graph().as_default():\n",
    "    model = Model(env.action_space.n)\n",
    "\n",
    "    print(\"Eager Execution:  \", tf.executing_eagerly())\n",
    "    print(\"Eager Keras Model:\", model.run_eagerly)\n",
    "\n",
    "    _ = model.predict_on_batch(obs)"
   ]
  },
  {
   "cell_type": "markdown",
   "metadata": {},
   "source": [
    "### Default Benchmark"
   ]
  },
  {
   "cell_type": "code",
   "execution_count": 24,
   "metadata": {
    "pycharm": {
     "is_executing": false
    }
   },
   "outputs": [
    {
     "name": "stdout",
     "text": [
      "Eager Execution:   True\n",
      "Eager Keras Model: False\n",
      "CPU times: user 54.2 ms, sys: 4.58 ms, total: 58.7 ms\n",
      "Wall time: 56 ms\n"
     ],
     "output_type": "stream"
    }
   ],
   "source": [
    "%%time\n",
    "\n",
    "model = Model(env.action_space.n)\n",
    "\n",
    "print(\"Eager Execution:  \", tf.executing_eagerly())\n",
    "print(\"Eager Keras Model:\", model.run_eagerly)\n",
    "\n",
    "_ = model.predict_on_batch(obs)"
   ]
  }
 ],
 "metadata": {
  "kernelspec": {
   "display_name": "Python 3",
   "language": "python",
   "name": "python3"
  },
  "language_info": {
   "codemirror_mode": {
    "name": "ipython",
    "version": 3
   },
   "file_extension": ".py",
   "mimetype": "text/x-python",
   "name": "python",
   "nbconvert_exporter": "python",
   "pygments_lexer": "ipython3",
   "version": "3.6.8"
  },
  "pycharm": {
   "stem_cell": {
    "cell_type": "raw",
    "source": [],
    "metadata": {
     "collapsed": false
    }
   }
  }
 },
 "nbformat": 4,
 "nbformat_minor": 2
}